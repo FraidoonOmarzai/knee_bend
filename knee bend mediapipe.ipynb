{
 "cells": [
  {
   "cell_type": "markdown",
   "id": "3832207e",
   "metadata": {},
   "source": [
    "<h1 align=\"center\">Knee Bend CV Project</h1>\n",
    "\n",
    "* install and import the required libraries\n",
    "\n",
    "* define angle calculation function\n",
    "\n",
    "* read the video and setup the mediapipe variables\n",
    "\n",
    "* if angle < 100 count the rep and check if the person can not hold for 8 second, if angle get bigger than 100 display a feed back message"
   ]
  },
  {
   "cell_type": "code",
   "execution_count": null,
   "id": "6088d352",
   "metadata": {},
   "outputs": [],
   "source": [
    "# !pip install mediapipe opencv-python # install mediapipe "
   ]
  },
  {
   "cell_type": "markdown",
   "id": "a7cad109",
   "metadata": {},
   "source": [
    "![mediapipe_pose](https://mediapipe.dev/images/mobile/pose_tracking_full_body_landmarks.png)"
   ]
  },
  {
   "cell_type": "code",
   "execution_count": 7,
   "id": "216aa194",
   "metadata": {},
   "outputs": [],
   "source": [
    "# Import libraries\n",
    "import cv2\n",
    "import mediapipe as mp\n",
    "import numpy as np\n",
    "from datetime import datetime"
   ]
  },
  {
   "cell_type": "code",
   "execution_count": 8,
   "id": "807d11a6",
   "metadata": {},
   "outputs": [],
   "source": [
    "# Calculate the angle\n",
    "def calculate_angle(a,b,c):\n",
    "    a = np.array(a) # First\n",
    "    b = np.array(b) # Mid\n",
    "    c = np.array(c) # End\n",
    "    \n",
    "    radians = np.arctan2(c[1]-b[1], c[0]-b[0]) - np.arctan2(a[1]-b[1], a[0]-b[0])\n",
    "    angle = np.abs(radians*180.0/np.pi)\n",
    "    \n",
    "    if angle >180.0:\n",
    "        angle = 360-angle\n",
    "        \n",
    "    return angle "
   ]
  },
  {
   "cell_type": "code",
   "execution_count": 10,
   "id": "2a30a8cf",
   "metadata": {},
   "outputs": [],
   "source": [
    "cap = cv2.VideoCapture(\"KneeBendVideo.mp4\")\n",
    "\n",
    "# define variables\n",
    "counter = 0\n",
    "stage = None\n",
    "last_detected = 0\n",
    "\n",
    "# Setup\n",
    "mp_drawing = mp.solutions.drawing_utils\n",
    "mp_pose = mp.solutions.pose\n",
    "\n",
    "with mp_pose.Pose(min_detection_confidence=0.5, min_tracking_confidence=0.5) as pose:\n",
    "    \n",
    "    while cap.isOpened:\n",
    "        ret, frame = cap.read()\n",
    "        \n",
    "        # Recolor image to RGB\n",
    "        image = cv2.cvtColor(frame, cv2.COLOR_BGR2RGB)\n",
    "        image.flags.writeable = False\n",
    "        # Make detection\n",
    "        results = pose.process(image)\n",
    "    \n",
    "        # Recolor back to BGR\n",
    "        image.flags.writeable = True\n",
    "        image = cv2.cvtColor(image, cv2.COLOR_RGB2BGR)\n",
    "        \n",
    "        # extract landmarks\n",
    "        try:\n",
    "            landmarks = results.pose_landmarks.landmark\n",
    "            \n",
    "            # Get coordinates\n",
    "            hip = [landmarks[mp_pose.PoseLandmark.LEFT_HIP.value].x,landmarks[mp_pose.PoseLandmark.LEFT_HIP.value].y]\n",
    "            knee = [landmarks[mp_pose.PoseLandmark.LEFT_KNEE.value].x,landmarks[mp_pose.PoseLandmark.LEFT_KNEE.value].y]\n",
    "            ankle = [landmarks[mp_pose.PoseLandmark.LEFT_ANKLE.value].x,landmarks[mp_pose.PoseLandmark.LEFT_ANKLE.value].y]\n",
    "            \n",
    "            # Calculate angle\n",
    "            angle = calculate_angle(hip, knee, ankle)\n",
    "            \n",
    "            # Visualize angle\n",
    "            cv2.putText(image, str(angle), (230,300),\n",
    "                        cv2.FONT_HERSHEY_SIMPLEX, 0.5,\n",
    "                        (255, 0, 0), 2, cv2.LINE_AA)\n",
    "            \n",
    "            # counting logic\n",
    "            if angle > 160:\n",
    "                stage = \"down\"\n",
    "            if angle < 100 and stage==\"down\":\n",
    "                last_detected = datetime.now()\n",
    "                stage = \"up\"\n",
    "                counter +=1\n",
    "            # Add a holding timer limit of 8 sec\n",
    "            if angle > 100 and stage==\"up\":\n",
    "                if (datetime.now() - last_detected).total_seconds() < 8:\n",
    "                    cv2.putText(image, 'Keep your knee bent', (250, 200), \n",
    "                                cv2.FONT_HERSHEY_SIMPLEX, 1, (0,0,255), 2, cv2.LINE_AA)\n",
    "            \n",
    "        except:\n",
    "            pass\n",
    "        \n",
    "        cv2.rectangle(image, (0,0), (225,73), (245,117,16), -1)\n",
    "        cv2.putText(image, str(counter), \n",
    "                    (10,60), \n",
    "                    cv2.FONT_HERSHEY_SIMPLEX, 2, (255,255,255), 2, cv2.LINE_AA)\n",
    "        \n",
    "        # render detections\n",
    "        mp_drawing.draw_landmarks(image, results.pose_landmarks, mp_pose.POSE_CONNECTIONS)\n",
    "        \n",
    "       \n",
    "    \n",
    "        cv2.imshow('Knee-Bend', image)\n",
    "    \n",
    "        if cv2.waitKey(5) & 0xff == ord('q'):\n",
    "            break\n",
    "        \n",
    "cap.release()\n",
    "cv2.destroyAllWindows()"
   ]
  }
 ],
 "metadata": {
  "kernelspec": {
   "display_name": "Python 3 (ipykernel)",
   "language": "python",
   "name": "python3"
  },
  "language_info": {
   "codemirror_mode": {
    "name": "ipython",
    "version": 3
   },
   "file_extension": ".py",
   "mimetype": "text/x-python",
   "name": "python",
   "nbconvert_exporter": "python",
   "pygments_lexer": "ipython3",
   "version": "3.10.6"
  }
 },
 "nbformat": 4,
 "nbformat_minor": 5
}
